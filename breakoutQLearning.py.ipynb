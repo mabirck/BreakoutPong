{
 "cells": [
  {
   "cell_type": "markdown",
   "metadata": {
    "deletable": true,
    "editable": true
   },
   "source": [
    "The idea to create this model was sparked by a tweet: https://twitter.com/fchollet/status/711594805692792832\n",
    "\n",
    "I studied the following resources to be able to finish the model:\n",
    "0. http://artint.info/html/ArtInt_265.html\n",
    "1. https://edersantana.github.io/articles/keras_rl/\n",
    "2. http://www.nervanasys.com/demystifying-deep-reinforcement-learning/\n",
    "3. http://keras.io/\n",
    "\n",
    "Here's a gif of the model playing a few games of catching fruit:\n",
    "<img src=\"files/fruit.gif\" />\n",
    "\n",
    "Btw, I really, *really* liked Eder Santana's idea to apply big idea's to toy examples. I hope to do this more often to feed my fingerspitzengefühl."
   ]
  },
  {
   "cell_type": "code",
   "execution_count": 9,
   "metadata": {
    "collapsed": false,
    "deletable": true,
    "editable": true
   },
   "outputs": [],
   "source": [
    "from random import sample as rsample\n",
    "\n",
    "import numpy as np\n",
    "\n",
    "from keras.models import Sequential, Model\n",
    "from keras.layers.convolutional import Convolution2D\n",
    "from keras.layers.core import Dense, Flatten\n",
    "from keras.layers import Input\n",
    "from keras.optimizers import SGD, RMSprop\n",
    "from keras import backend as K\n",
    "import gym\n",
    "import matplotlib.pyplot as plt\n",
    "from skimage import color\n",
    "from scipy.misc import imresize\n",
    "\n",
    "\n",
    "%matplotlib inline\n",
    "\n",
    "K.set_image_dim_ordering('tf')"
   ]
  },
  {
   "cell_type": "code",
   "execution_count": 10,
   "metadata": {
    "collapsed": false,
    "deletable": true,
    "editable": true
   },
   "outputs": [
    {
     "name": "stderr",
     "output_type": "stream",
     "text": [
      "[2017-04-11 18:11:34,966] Making new env: Breakout-v0\n"
     ]
    },
    {
     "name": "stdout",
     "output_type": "stream",
     "text": [
      "Box(210, 160, 3)\n",
      "(210, 160, 3)\n"
     ]
    }
   ],
   "source": [
    "env = gym.make('Breakout-v0')\n",
    "print env.observation_space\n",
    "\n",
    "img = env.reset()\n",
    "print img.shape\n",
    "\n",
    "def grayAndResize(img):\n",
    "    gray = color.rgb2grey(img)\n",
    "    newImg = imresize(gray, (84, 84))\n",
    "    return newImg\n",
    "\n",
    "def stackIt(images):\n",
    "    stage = np.zeros(shape = (1, 84, 84, 4))\n",
    "    for k, img in enumerate(images):\n",
    "        #print \"Image shape\", type(img)\n",
    "        stage[0, :, :, k] = grayAndResize(img)\n",
    "    return stage"
   ]
  },
  {
   "cell_type": "code",
   "execution_count": 11,
   "metadata": {
    "collapsed": false,
    "deletable": true,
    "editable": true
   },
   "outputs": [
    {
     "data": {
      "image/png": "[encoded data removed]",
      "text/plain": [
       "<matplotlib.figure.Figure at 0x7f6b944eaf90>"
      ]
     },
     "metadata": {},
     "output_type": "display_data"
    },
    {
     "data": {
      "image/png": "[encoded data removed]",
      "text/plain": [
       "<matplotlib.figure.Figure at 0x7f6b3490e610>"
      ]
     },
     "metadata": {},
     "output_type": "display_data"
    },
    {
     "name": "stdout",
     "output_type": "stream",
     "text": [
      "6\n",
      "(84, 84) (1, 84, 84, 4)\n"
     ]
    }
   ],
   "source": [
    "plt.imshow(img)\n",
    "plt.show()\n",
    "\n",
    "images = stackIt([img, img, img, img])\n",
    "\n",
    "images = images\n",
    "\n",
    "plt.imshow(images[0, :, :, 1])\n",
    "plt.show()\n",
    "print env.action_space.n\n",
    "print images[0, :, :, 1].shape, images.shape"
   ]
  },
  {
   "cell_type": "code",
   "execution_count": 12,
   "metadata": {
    "collapsed": true,
    "deletable": true,
    "editable": true
   },
   "outputs": [],
   "source": [
    "           \n",
    "def experience_replay(batch_size):\n",
    "    \"\"\"\n",
    "    Coroutine of experience replay.\n",
    "    \n",
    "    Provide a new experience by calling send, which in turn yields \n",
    "    a random batch of previous replay experiences.\n",
    "    \"\"\"\n",
    "    memory = []\n",
    "    while True:\n",
    "        experience = yield rsample(memory, batch_size) if batch_size <= len(memory) else None\n",
    "        memory.append(experience)\n"
   ]
  },
  {
   "cell_type": "code",
   "execution_count": 13,
   "metadata": {
    "collapsed": false,
    "deletable": true,
    "editable": true
   },
   "outputs": [],
   "source": [
    "def build_model(STATE_LENGTH, FRAME_WIDTH, FRAME_HEIGHT, output_size ,dir = None):\n",
    "    model = Sequential()\n",
    "    model.add(Convolution2D(32, (8, 8), subsample=(4, 4), border_mode='same', activation='relu', input_shape = (84, 84, 4)))\n",
    "    model.add(Convolution2D(32, 4, 4, subsample=(2, 2), border_mode='same', activation='relu'))\n",
    "    model.add(Flatten())\n",
    "    model.add(Dense(256, activation='relu'))\n",
    "    model.add(Dense(6))\n",
    "    \n",
    "    return model"
   ]
  },
  {
   "cell_type": "code",
   "execution_count": 19,
   "metadata": {
    "collapsed": false,
    "deletable": true,
    "editable": true
   },
   "outputs": [
    {
     "name": "stdout",
     "output_type": "stream",
     "text": [
      "Epoch  1 loss: 0 Reward: 0 Total Q: 0 Epsilon 0.76\n",
      "Epoch  2 loss: 0.0 Reward: 1.0 Total Q: 0 Epsilon 0.722\n",
      "Epoch  3 loss: 0.0 Reward: 1.0 Total Q: 0 Epsilon 0.6859\n",
      "Epoch  4 loss: 0.0 Reward: 1.0 Total Q: 0 Epsilon 0.651605\n",
      "Epoch  5 loss: 0.0 Reward: 0.0 Total Q: 0 Epsilon 0.61902475\n",
      "Epoch  6 loss: 110945.193522 Reward: 15.0 Total Q: -64844.2640514 Epsilon 0.5880735125\n",
      "Epoch  7 loss: 93.7624510527 Reward: 27.0 Total Q: 24316.5298462 Epsilon 0.558669836875\n",
      "Epoch  8 loss: 93.2302484661 Reward: 36.0 Total Q: 22355.3087769 Epsilon 0.530736345031\n",
      "Epoch  9 loss: 55.2916820645 Reward: 54.0 Total Q: 53490.2181396 Epsilon 0.50419952778\n",
      "Epoch  10 loss: 12.3516474366 Reward: 23.0 Total Q: 25612.9856567 Epsilon 0.478989551391\n",
      "Epoch  11 loss: 10.1721744686 Reward: 31.0 Total Q: 36799.166626 Epsilon 0.455040073821\n",
      "Epoch  12 loss: 203.027121812 Reward: 15.0 Total Q: 36566.367691 Epsilon 0.43228807013\n",
      "Epoch  13 loss: 4.57542561367 Reward: 10.0 Total Q: 39777.2330322 Epsilon 0.410673666624\n",
      "Epoch  14 loss: 8.72017361224 Reward: 24.0 Total Q: 47452.394165 Epsilon 0.390139983292\n",
      "Epoch  15 loss: 7.26801967621 Reward: 21.0 Total Q: 42942.0488586 Epsilon 0.370632984128\n",
      "Epoch  16 loss: 106.543243878 Reward: 24.0 Total Q: 49033.7497101 Epsilon 0.352101334921\n",
      "Epoch  17 loss: 10.3169271424 Reward: 25.0 Total Q: 48788.2647095 Epsilon 0.334496268175\n",
      "Epoch  18 loss: 18.5603693798 Reward: 47.0 Total Q: 76366.7519531 Epsilon 0.317771454767\n",
      "Epoch  19 loss: 12.3744237423 Reward: 29.0 Total Q: 61095.4540405 Epsilon 0.301882882028\n",
      "Epoch  20 loss: 6.26177813858 Reward: 13.0 Total Q: 31499.7359009 Epsilon 0.286788737927\n",
      "Epoch  21 loss: 17.8369942829 Reward: 29.0 Total Q: 64535.8788452 Epsilon 0.27244930103\n",
      "Epoch  22 loss: 6.28061746806 Reward: 16.0 Total Q: 40153.3571777 Epsilon 0.258826835979\n",
      "Epoch  23 loss: 7.77065806091 Reward: 27.0 Total Q: 53744.0106812 Epsilon 0.24588549418\n",
      "Epoch  24 loss: 7.62182482332 Reward: 30.0 Total Q: 60611.0098877 Epsilon 0.233591219471\n",
      "Epoch  25 loss: 7.6749221161 Reward: 39.0 Total Q: 63914.644165 Epsilon 0.221911658497\n",
      "Epoch  26 loss: 5.52751195431 Reward: 33.0 Total Q: 54854.9691162 Epsilon 0.210816075573\n",
      "Epoch  27 loss: 7.65708358586 Reward: 27.0 Total Q: 61149.9368896 Epsilon 0.200275271794\n",
      "Epoch  28 loss: 13.3057204634 Reward: 34.0 Total Q: 48563.2086792 Epsilon 0.190261508204\n",
      "Epoch  29 loss: 11.3669911176 Reward: 38.0 Total Q: 66967.0182495 Epsilon 0.180748432794\n",
      "Epoch  30 loss: 7.61210918427 Reward: 40.0 Total Q: 55380.4492493 Epsilon 0.171711011154\n",
      "Epoch  31 loss: 11.0943617076 Reward: 36.0 Total Q: 66421.369812 Epsilon 0.163125460597\n",
      "Epoch  32 loss: 9.59951046109 Reward: 34.0 Total Q: 62687.9432602 Epsilon 0.154969187567\n",
      "Epoch  33 loss: 11.3951737583 Reward: 24.0 Total Q: 48568.3032227 Epsilon 0.147220728188\n",
      "Epoch  34 loss: 10.9861709364 Reward: 47.0 Total Q: 50616.5507202 Epsilon 0.139859691779\n",
      "Epoch  35 loss: 10.2582214773 Reward: 33.0 Total Q: 52533.5700684 Epsilon 0.13286670719\n",
      "Epoch  36 loss: 6.72406961024 Reward: 15.0 Total Q: 26817.2318115 Epsilon 0.126223371831\n",
      "Epoch  37 loss: 17.3220439106 Reward: 46.0 Total Q: 66158.9177246 Epsilon 0.119912203239\n",
      "Epoch  38 loss: 6.60851222277 Reward: 30.0 Total Q: 28782.8297729 Epsilon 0.113916593077\n",
      "Epoch  39 loss: 10.6717873216 Reward: 19.0 Total Q: 35134.1785431 Epsilon 0.108220763423\n",
      "Epoch  40 loss: 6.89255000651 Reward: 28.0 Total Q: 33602.06604 Epsilon 0.102809725252\n",
      "Epoch  41 loss: 10.7119811773 Reward: 30.0 Total Q: 48336.6951904 Epsilon 0.0976692389895\n",
      "Epoch  42 loss: 17.1259410679 Reward: 59.0 Total Q: 75531.2580261 Epsilon 0.09278577704\n",
      "Epoch  43 loss: 16.5986769944 Reward: 37.0 Total Q: 69174.6595459 Epsilon 0.088146488188\n",
      "Epoch  44 loss: 6.64115873724 Reward: 17.0 Total Q: 28898.3147583 Epsilon 0.0837391637786\n",
      "Epoch  45 loss: 4.62532797456 Reward: 27.0 Total Q: 30502.019043 Epsilon 0.0795522055897\n",
      "Epoch  46 loss: 9.43113586307 Reward: 34.0 Total Q: 46184.338623 Epsilon 0.0755745953102\n",
      "Epoch  47 loss: 5.31532914937 Reward: 19.0 Total Q: 35013.5988159 Epsilon 0.0717958655447\n",
      "Epoch  48 loss: 16.6888253577 Reward: 36.0 Total Q: 45424.7794342 Epsilon 0.0682060722674\n",
      "Epoch  49 loss: 12.7266289741 Reward: 24.0 Total Q: 46982.1962128 Epsilon 0.0647957686541\n",
      "Epoch  50 loss: 9.87668197602 Reward: 40.0 Total Q: 42494.8433228 Epsilon 0.0615559802214\n",
      "Epoch  51 loss: 12.9060982093 Reward: 39.0 Total Q: 57766.928215 Epsilon 0.0584781812103\n",
      "Epoch  52 loss: 9.81303897873 Reward: 32.0 Total Q: 29744.2539368 Epsilon 0.0555542721498\n",
      "Epoch  53 loss: 9.10132728517 Reward: 25.0 Total Q: 36110.0667725 Epsilon 0.0527765585423\n",
      "Epoch  54 loss: 11.971032761 Reward: 36.0 Total Q: 66922.749054 Epsilon 0.0501377306152\n",
      "Epoch  55 loss: 6.12069334835 Reward: 17.0 Total Q: 29190.8957672 Epsilon 0.0476308440844\n",
      "Epoch  56 loss: 4.2655635979 Reward: 29.0 Total Q: 21953.5948334 Epsilon 0.0476308440844\n",
      "Epoch  57 loss: 10.9052536599 Reward: 23.0 Total Q: 45001.2513428 Epsilon 0.0476308440844\n",
      "Epoch  58 loss: 13.9148828611 Reward: 34.0 Total Q: 65596.944088 Epsilon 0.0476308440844\n",
      "Epoch  59 loss: 4.22116148099 Reward: 20.0 Total Q: 29147.475769 Epsilon 0.0476308440844\n",
      "Epoch  60 loss: 10.1652723867 Reward: 23.0 Total Q: 41102.7296448 Epsilon 0.0476308440844\n",
      "Epoch  61 loss: 5.46557131782 Reward: 25.0 Total Q: 29702.3384819 Epsilon 0.0476308440844\n",
      "Epoch  62 loss: 15.8479777053 Reward: 52.0 Total Q: 80563.8313599 Epsilon 0.0476308440844\n",
      "Epoch  63 loss: 6.11277333647 Reward: 18.0 Total Q: 47750.9123535 Epsilon 0.0476308440844\n",
      "Epoch  64 loss: 6.47202754952 Reward: 22.0 Total Q: 11335.6701927 Epsilon 0.0476308440844\n",
      "Epoch  65 loss: 8.90496067703 Reward: 25.0 Total Q: 36087.3087921 Epsilon 0.0476308440844\n",
      "Epoch  66 loss: 5.29616555199 Reward: 22.0 Total Q: 33361.0139513 Epsilon 0.0476308440844\n",
      "Epoch  67 loss: 8.97866725922 Reward: 17.0 Total Q: 34776.3360596 Epsilon 0.0476308440844\n",
      "Epoch  68 loss: 10.8799757175 Reward: 25.0 Total Q: 56780.8132877 Epsilon 0.0476308440844\n",
      "Epoch  69 loss: 3.43816863559 Reward: 17.0 Total Q: 9389.31144714 Epsilon 0.0476308440844\n",
      "Epoch  70 loss: 4.59366773814 Reward: 27.0 Total Q: 21009.8628693 Epsilon 0.0476308440844\n",
      "Epoch  71 loss: 7.23996932432 Reward: 37.0 Total Q: 32570.6582489 Epsilon 0.0476308440844\n",
      "Epoch  72 loss: 5.90485518053 Reward: 28.0 Total Q: 17804.087326 Epsilon 0.0476308440844\n",
      "Epoch  73 loss: 15.1175610721 Reward: 48.0 Total Q: 37929.6877441 Epsilon 0.0476308440844\n",
      "Epoch  74 loss: 9.97409814596 Reward: 27.0 Total Q: 41310.4071808 Epsilon 0.0476308440844\n",
      "Epoch  75 loss: 17.0099255852 Reward: 26.0 Total Q: 41933.2001038 Epsilon 0.0476308440844\n",
      "Epoch  76 loss: 13.9126769677 Reward: 25.0 Total Q: 55109.061142 Epsilon 0.0476308440844\n",
      "Epoch  77 loss: 7.36863839626 Reward: 20.0 Total Q: 22592.0097961 Epsilon 0.0476308440844\n",
      "Epoch  78 loss: 11.2874199646 Reward: 27.0 Total Q: 33971.4798927 Epsilon 0.0476308440844\n",
      "Epoch  79 loss: 7.1106929332 Reward: 19.0 Total Q: 38177.6426392 Epsilon 0.0476308440844\n",
      "Epoch  80 loss: 10.8303690106 Reward: 35.0 Total Q: 80043.036499 Epsilon 0.0476308440844\n",
      "Epoch  81 loss: 4.51319474354 Reward: 7.0 Total Q: 45657.9459229 Epsilon 0.0476308440844\n",
      "Epoch  82 loss: 10.5622660089 Reward: 33.0 Total Q: 95883.7467041 Epsilon 0.0476308440844\n",
      "Epoch  83 loss: 6.63454867899 Reward: 12.0 Total Q: 31351.8533554 Epsilon 0.0476308440844\n",
      "Epoch  84 loss: 4.54501396045 Reward: 29.0 Total Q: 42014.9551539 Epsilon 0.0476308440844\n",
      "Epoch  85 loss: 12.9052040428 Reward: 28.0 Total Q: 45692.8515625 Epsilon 0.0476308440844\n",
      "Epoch  86 loss: 9.35278876498 Reward: 21.0 Total Q: 37549.8644257 Epsilon 0.0476308440844\n",
      "Epoch  87 loss: 11.2781239487 Reward: 18.0 Total Q: 43374.225769 Epsilon 0.0476308440844\n",
      "Epoch  88 loss: 8.57666626573 Reward: 15.0 Total Q: 35184.0020752 Epsilon 0.0476308440844\n",
      "Epoch  89 loss: 9.22011914104 Reward: 27.0 Total Q: 42463.8766174 Epsilon 0.0476308440844\n",
      "Epoch  90 loss: 5.00182826445 Reward: 23.0 Total Q: 55228.6932983 Epsilon 0.0476308440844\n",
      "Epoch  91 loss: 10.4664943889 Reward: 20.0 Total Q: 56463.3065491 Epsilon 0.0476308440844\n",
      "Epoch  92 loss: 11.8930456713 Reward: 24.0 Total Q: 37251.3580017 Epsilon 0.0476308440844\n",
      "Epoch  93 loss: 12.9790100902 Reward: 41.0 Total Q: 63295.5317535 Epsilon 0.0476308440844\n",
      "Epoch  94 loss: 12.6599618606 Reward: 23.0 Total Q: 60247.1248474 Epsilon 0.0476308440844\n",
      "Epoch  95 loss: 3.68465689197 Reward: 20.0 Total Q: 17083.4515991 Epsilon 0.0476308440844\n",
      "Epoch  96 loss: 10.4739347771 Reward: 25.0 Total Q: 83803.8069458 Epsilon 0.0476308440844\n",
      "Epoch  97 loss: 10.8205640372 Reward: 23.0 Total Q: 90827.5860596 Epsilon 0.0476308440844\n",
      "Epoch  98 loss: 5.36291951919 Reward: 9.0 Total Q: 20499.5031815 Epsilon 0.0476308440844\n",
      "Epoch  99 loss: 6.76939665899 Reward: 15.0 Total Q: 25748.7968903 Epsilon 0.0476308440844\n",
      "Epoch  100 loss: 7.41252904199 Reward: 27.0 Total Q: 44658.0213013 Epsilon 0.0476308440844\n",
      "Epoch  101 loss: 7.87301620096 Reward: 19.0 Total Q: 52859.5317078 Epsilon 0.0476308440844\n",
      "Epoch  102 loss: 11.3175322302 Reward: 28.0 Total Q: 60510.5480347 Epsilon 0.0476308440844\n",
      "Epoch  103 loss: 4.68505635671 Reward: 24.0 Total Q: 68975.9467773 Epsilon 0.0476308440844\n",
      "Epoch  104 loss: 4.85543557629 Reward: 18.0 Total Q: 59760.453125 Epsilon 0.0476308440844\n",
      "Epoch  105 loss: 9.20428332128 Reward: 41.0 Total Q: 63325.2282257 Epsilon 0.0476308440844\n",
      "Epoch  106 loss: 12.6160388654 Reward: 39.0 Total Q: 52182.6469154 Epsilon 0.0476308440844\n",
      "Epoch  107 loss: 7.72209621593 Reward: 26.0 Total Q: 80545.52771 Epsilon 0.0476308440844\n",
      "Epoch  108 loss: 9.28213680536 Reward: 20.0 Total Q: 57582.7576904 Epsilon 0.0476308440844\n",
      "Epoch  109 loss: 5.75609945506 Reward: 22.0 Total Q: 57630.0210571 Epsilon 0.0476308440844\n",
      "Epoch  110 loss: 5.17258037627 Reward: 23.0 Total Q: 57807.069458 Epsilon 0.0476308440844\n",
      "Epoch  111 loss: 9.57283882052 Reward: 15.0 Total Q: 39826.1791687 Epsilon 0.0476308440844\n",
      "Epoch  112 loss: 11.9644985497 Reward: 38.0 Total Q: 70474.1549683 Epsilon 0.0476308440844\n",
      "Epoch  113 loss: 4.51277195662 Reward: 16.0 Total Q: 37228.9162598 Epsilon 0.0476308440844\n",
      "Epoch  114 loss: 8.22161944956 Reward: 21.0 Total Q: 47783.9544067 Epsilon 0.0476308440844\n",
      "Epoch  115 loss: 9.36400689557 Reward: 17.0 Total Q: 50652.6978378 Epsilon 0.0476308440844\n",
      "Epoch  116 loss: 7.79539721459 Reward: 26.0 Total Q: 55788.9204102 Epsilon 0.0476308440844\n",
      "Epoch  117 loss: 7.12615294009 Reward: 22.0 Total Q: 43458.7344666 Epsilon 0.0476308440844\n",
      "Epoch  118 loss: 4.74807457998 Reward: 13.0 Total Q: 31683.9672546 Epsilon 0.0476308440844\n",
      "Epoch  119 loss: 8.74902672693 Reward: 21.0 Total Q: 34456.4823608 Epsilon 0.0476308440844\n",
      "Epoch  120 loss: 7.21855099499 Reward: 19.0 Total Q: 32571.0712585 Epsilon 0.0476308440844\n",
      "Epoch  121 loss: 14.3624712341 Reward: 18.0 Total Q: 46519.1801453 Epsilon 0.0476308440844\n",
      "Epoch  122 loss: 5.82305171341 Reward: 12.0 Total Q: 32344.7240601 Epsilon 0.0476308440844\n",
      "Epoch  123 loss: 5.11930277199 Reward: 5.0 Total Q: 22942.7621155 Epsilon 0.0476308440844\n",
      "Epoch  124 loss: 21.1410355866 Reward: 25.0 Total Q: 45317.9664917 Epsilon 0.0476308440844\n",
      "Epoch  125 loss: 8.01659834385 Reward: 24.0 Total Q: 55360.0287476 Epsilon 0.0476308440844\n",
      "Epoch  126 loss: 7.77851311117 Reward: 25.0 Total Q: 46510.9485474 Epsilon 0.0476308440844\n",
      "Epoch  127 loss: 10.1020031795 Reward: 11.0 Total Q: 31426.9068604 Epsilon 0.0476308440844\n",
      "Epoch  128 loss: 9.8555034399 Reward: 25.0 Total Q: 60303.3303833 Epsilon 0.0476308440844\n",
      "Epoch  129 loss: 3.42679950595 Reward: 19.0 Total Q: 32314.5404053 Epsilon 0.0476308440844\n",
      "Epoch  130 loss: 8.95239108056 Reward: 37.0 Total Q: 81304.0178833 Epsilon 0.0476308440844\n",
      "Epoch  131 loss: 11.0166847557 Reward: 36.0 Total Q: 71114.4158325 Epsilon 0.0476308440844\n",
      "Epoch  132 loss: 3.55110575631 Reward: 9.0 Total Q: 33820.4275513 Epsilon 0.0476308440844\n",
      "Epoch  133 loss: 9.17481657863 Reward: 30.0 Total Q: 70055.6939087 Epsilon 0.0476308440844\n"
     ]
    },
    {
     "ename": "KeyboardInterrupt",
     "evalue": "",
     "output_type": "error",
     "traceback": [
      "\u001b[0;31m---------------------------------------------------------------------------\u001b[0m",
      "\u001b[0;31mKeyboardInterrupt\u001b[0m                         Traceback (most recent call last)",
      "\u001b[0;32m<ipython-input-19-8e0047396b07>\u001b[0m in \u001b[0;36m<module>\u001b[0;34m()\u001b[0m\n\u001b[1;32m    105\u001b[0m                     \u001b[0;31m# or future discounted q-values, in case episodes are still running.\u001b[0m\u001b[0;34m\u001b[0m\u001b[0;34m\u001b[0m\u001b[0m\n\u001b[1;32m    106\u001b[0m                     \u001b[0mrewards\u001b[0m \u001b[0;34m+=\u001b[0m\u001b[0mr\u001b[0m\u001b[0;34m\u001b[0m\u001b[0m\n\u001b[0;32m--> 107\u001b[0;31m                     \u001b[0mt\u001b[0m \u001b[0;34m=\u001b[0m \u001b[0mmodel\u001b[0m\u001b[0;34m.\u001b[0m\u001b[0mpredict\u001b[0m\u001b[0;34m(\u001b[0m\u001b[0ms\u001b[0m\u001b[0;34m)\u001b[0m\u001b[0;34m\u001b[0m\u001b[0m\n\u001b[0m\u001b[1;32m    108\u001b[0m                     \u001b[0;31m#print t, a, t.shape\u001b[0m\u001b[0;34m\u001b[0m\u001b[0;34m\u001b[0m\u001b[0m\n\u001b[1;32m    109\u001b[0m                     \u001b[0mt\u001b[0m\u001b[0;34m[\u001b[0m\u001b[0;36m0\u001b[0m\u001b[0;34m]\u001b[0m\u001b[0;34m[\u001b[0m\u001b[0ma\u001b[0m\u001b[0;34m]\u001b[0m \u001b[0;34m=\u001b[0m \u001b[0mr\u001b[0m\u001b[0;34m\u001b[0m\u001b[0m\n",
      "\u001b[0;32m/usr/local/lib/python2.7/dist-packages/keras/models.pyc\u001b[0m in \u001b[0;36mpredict\u001b[0;34m(self, x, batch_size, verbose)\u001b[0m\n\u001b[1;32m    889\u001b[0m         \u001b[0;32mif\u001b[0m \u001b[0mself\u001b[0m\u001b[0;34m.\u001b[0m\u001b[0mmodel\u001b[0m \u001b[0;32mis\u001b[0m \u001b[0mNone\u001b[0m\u001b[0;34m:\u001b[0m\u001b[0;34m\u001b[0m\u001b[0m\n\u001b[1;32m    890\u001b[0m             \u001b[0mself\u001b[0m\u001b[0;34m.\u001b[0m\u001b[0mbuild\u001b[0m\u001b[0;34m(\u001b[0m\u001b[0;34m)\u001b[0m\u001b[0;34m\u001b[0m\u001b[0m\n\u001b[0;32m--> 891\u001b[0;31m         \u001b[0;32mreturn\u001b[0m \u001b[0mself\u001b[0m\u001b[0;34m.\u001b[0m\u001b[0mmodel\u001b[0m\u001b[0;34m.\u001b[0m\u001b[0mpredict\u001b[0m\u001b[0;34m(\u001b[0m\u001b[0mx\u001b[0m\u001b[0;34m,\u001b[0m \u001b[0mbatch_size\u001b[0m\u001b[0;34m=\u001b[0m\u001b[0mbatch_size\u001b[0m\u001b[0;34m,\u001b[0m \u001b[0mverbose\u001b[0m\u001b[0;34m=\u001b[0m\u001b[0mverbose\u001b[0m\u001b[0;34m)\u001b[0m\u001b[0;34m\u001b[0m\u001b[0m\n\u001b[0m\u001b[1;32m    892\u001b[0m \u001b[0;34m\u001b[0m\u001b[0m\n\u001b[1;32m    893\u001b[0m     \u001b[0;32mdef\u001b[0m \u001b[0mpredict_on_batch\u001b[0m\u001b[0;34m(\u001b[0m\u001b[0mself\u001b[0m\u001b[0;34m,\u001b[0m \u001b[0mx\u001b[0m\u001b[0;34m)\u001b[0m\u001b[0;34m:\u001b[0m\u001b[0;34m\u001b[0m\u001b[0m\n",
      "\u001b[0;32m/usr/local/lib/python2.7/dist-packages/keras/engine/training.pyc\u001b[0m in \u001b[0;36mpredict\u001b[0;34m(self, x, batch_size, verbose)\u001b[0m\n\u001b[1;32m   1570\u001b[0m         \u001b[0mf\u001b[0m \u001b[0;34m=\u001b[0m \u001b[0mself\u001b[0m\u001b[0;34m.\u001b[0m\u001b[0mpredict_function\u001b[0m\u001b[0;34m\u001b[0m\u001b[0m\n\u001b[1;32m   1571\u001b[0m         return self._predict_loop(f, ins,\n\u001b[0;32m-> 1572\u001b[0;31m                                   batch_size=batch_size, verbose=verbose)\n\u001b[0m\u001b[1;32m   1573\u001b[0m \u001b[0;34m\u001b[0m\u001b[0m\n\u001b[1;32m   1574\u001b[0m     def train_on_batch(self, x, y,\n",
      "\u001b[0;32m/usr/local/lib/python2.7/dist-packages/keras/engine/training.pyc\u001b[0m in \u001b[0;36m_predict_loop\u001b[0;34m(self, f, ins, batch_size, verbose)\u001b[0m\n\u001b[1;32m   1200\u001b[0m                 \u001b[0mins_batch\u001b[0m \u001b[0;34m=\u001b[0m \u001b[0m_slice_arrays\u001b[0m\u001b[0;34m(\u001b[0m\u001b[0mins\u001b[0m\u001b[0;34m,\u001b[0m \u001b[0mbatch_ids\u001b[0m\u001b[0;34m)\u001b[0m\u001b[0;34m\u001b[0m\u001b[0m\n\u001b[1;32m   1201\u001b[0m \u001b[0;34m\u001b[0m\u001b[0m\n\u001b[0;32m-> 1202\u001b[0;31m             \u001b[0mbatch_outs\u001b[0m \u001b[0;34m=\u001b[0m \u001b[0mf\u001b[0m\u001b[0;34m(\u001b[0m\u001b[0mins_batch\u001b[0m\u001b[0;34m)\u001b[0m\u001b[0;34m\u001b[0m\u001b[0m\n\u001b[0m\u001b[1;32m   1203\u001b[0m             \u001b[0;32mif\u001b[0m \u001b[0;32mnot\u001b[0m \u001b[0misinstance\u001b[0m\u001b[0;34m(\u001b[0m\u001b[0mbatch_outs\u001b[0m\u001b[0;34m,\u001b[0m \u001b[0mlist\u001b[0m\u001b[0;34m)\u001b[0m\u001b[0;34m:\u001b[0m\u001b[0;34m\u001b[0m\u001b[0m\n\u001b[1;32m   1204\u001b[0m                 \u001b[0mbatch_outs\u001b[0m \u001b[0;34m=\u001b[0m \u001b[0;34m[\u001b[0m\u001b[0mbatch_outs\u001b[0m\u001b[0;34m]\u001b[0m\u001b[0;34m\u001b[0m\u001b[0m\n",
      "\u001b[0;32m/usr/local/lib/python2.7/dist-packages/keras/backend/tensorflow_backend.pyc\u001b[0m in \u001b[0;36m__call__\u001b[0;34m(self, inputs)\u001b[0m\n\u001b[1;32m   2073\u001b[0m         \u001b[0msession\u001b[0m \u001b[0;34m=\u001b[0m \u001b[0mget_session\u001b[0m\u001b[0;34m(\u001b[0m\u001b[0;34m)\u001b[0m\u001b[0;34m\u001b[0m\u001b[0m\n\u001b[1;32m   2074\u001b[0m         updated = session.run(self.outputs + [self.updates_op],\n\u001b[0;32m-> 2075\u001b[0;31m                               feed_dict=feed_dict)\n\u001b[0m\u001b[1;32m   2076\u001b[0m         \u001b[0;32mreturn\u001b[0m \u001b[0mupdated\u001b[0m\u001b[0;34m[\u001b[0m\u001b[0;34m:\u001b[0m\u001b[0mlen\u001b[0m\u001b[0;34m(\u001b[0m\u001b[0mself\u001b[0m\u001b[0;34m.\u001b[0m\u001b[0moutputs\u001b[0m\u001b[0;34m)\u001b[0m\u001b[0;34m]\u001b[0m\u001b[0;34m\u001b[0m\u001b[0m\n\u001b[1;32m   2077\u001b[0m \u001b[0;34m\u001b[0m\u001b[0m\n",
      "\u001b[0;32m/usr/local/lib/python2.7/dist-packages/tensorflow/python/client/session.pyc\u001b[0m in \u001b[0;36mrun\u001b[0;34m(self, fetches, feed_dict, options, run_metadata)\u001b[0m\n\u001b[1;32m    765\u001b[0m     \u001b[0;32mtry\u001b[0m\u001b[0;34m:\u001b[0m\u001b[0;34m\u001b[0m\u001b[0m\n\u001b[1;32m    766\u001b[0m       result = self._run(None, fetches, feed_dict, options_ptr,\n\u001b[0;32m--> 767\u001b[0;31m                          run_metadata_ptr)\n\u001b[0m\u001b[1;32m    768\u001b[0m       \u001b[0;32mif\u001b[0m \u001b[0mrun_metadata\u001b[0m\u001b[0;34m:\u001b[0m\u001b[0;34m\u001b[0m\u001b[0m\n\u001b[1;32m    769\u001b[0m         \u001b[0mproto_data\u001b[0m \u001b[0;34m=\u001b[0m \u001b[0mtf_session\u001b[0m\u001b[0;34m.\u001b[0m\u001b[0mTF_GetBuffer\u001b[0m\u001b[0;34m(\u001b[0m\u001b[0mrun_metadata_ptr\u001b[0m\u001b[0;34m)\u001b[0m\u001b[0;34m\u001b[0m\u001b[0m\n",
      "\u001b[0;32m/usr/local/lib/python2.7/dist-packages/tensorflow/python/client/session.pyc\u001b[0m in \u001b[0;36m_run\u001b[0;34m(self, handle, fetches, feed_dict, options, run_metadata)\u001b[0m\n\u001b[1;32m    963\u001b[0m     \u001b[0;32mif\u001b[0m \u001b[0mfinal_fetches\u001b[0m \u001b[0;32mor\u001b[0m \u001b[0mfinal_targets\u001b[0m\u001b[0;34m:\u001b[0m\u001b[0;34m\u001b[0m\u001b[0m\n\u001b[1;32m    964\u001b[0m       results = self._do_run(handle, final_targets, final_fetches,\n\u001b[0;32m--> 965\u001b[0;31m                              feed_dict_string, options, run_metadata)\n\u001b[0m\u001b[1;32m    966\u001b[0m     \u001b[0;32melse\u001b[0m\u001b[0;34m:\u001b[0m\u001b[0;34m\u001b[0m\u001b[0m\n\u001b[1;32m    967\u001b[0m       \u001b[0mresults\u001b[0m \u001b[0;34m=\u001b[0m \u001b[0;34m[\u001b[0m\u001b[0;34m]\u001b[0m\u001b[0;34m\u001b[0m\u001b[0m\n",
      "\u001b[0;32m/usr/local/lib/python2.7/dist-packages/tensorflow/python/client/session.pyc\u001b[0m in \u001b[0;36m_do_run\u001b[0;34m(self, handle, target_list, fetch_list, feed_dict, options, run_metadata)\u001b[0m\n\u001b[1;32m   1013\u001b[0m     \u001b[0;32mif\u001b[0m \u001b[0mhandle\u001b[0m \u001b[0;32mis\u001b[0m \u001b[0mNone\u001b[0m\u001b[0;34m:\u001b[0m\u001b[0;34m\u001b[0m\u001b[0m\n\u001b[1;32m   1014\u001b[0m       return self._do_call(_run_fn, self._session, feed_dict, fetch_list,\n\u001b[0;32m-> 1015\u001b[0;31m                            target_list, options, run_metadata)\n\u001b[0m\u001b[1;32m   1016\u001b[0m     \u001b[0;32melse\u001b[0m\u001b[0;34m:\u001b[0m\u001b[0;34m\u001b[0m\u001b[0m\n\u001b[1;32m   1017\u001b[0m       return self._do_call(_prun_fn, self._session, handle, feed_dict,\n",
      "\u001b[0;32m/usr/local/lib/python2.7/dist-packages/tensorflow/python/client/session.pyc\u001b[0m in \u001b[0;36m_do_call\u001b[0;34m(self, fn, *args)\u001b[0m\n\u001b[1;32m   1020\u001b[0m   \u001b[0;32mdef\u001b[0m \u001b[0m_do_call\u001b[0m\u001b[0;34m(\u001b[0m\u001b[0mself\u001b[0m\u001b[0;34m,\u001b[0m \u001b[0mfn\u001b[0m\u001b[0;34m,\u001b[0m \u001b[0;34m*\u001b[0m\u001b[0margs\u001b[0m\u001b[0;34m)\u001b[0m\u001b[0;34m:\u001b[0m\u001b[0;34m\u001b[0m\u001b[0m\n\u001b[1;32m   1021\u001b[0m     \u001b[0;32mtry\u001b[0m\u001b[0;34m:\u001b[0m\u001b[0;34m\u001b[0m\u001b[0m\n\u001b[0;32m-> 1022\u001b[0;31m       \u001b[0;32mreturn\u001b[0m \u001b[0mfn\u001b[0m\u001b[0;34m(\u001b[0m\u001b[0;34m*\u001b[0m\u001b[0margs\u001b[0m\u001b[0;34m)\u001b[0m\u001b[0;34m\u001b[0m\u001b[0m\n\u001b[0m\u001b[1;32m   1023\u001b[0m     \u001b[0;32mexcept\u001b[0m \u001b[0merrors\u001b[0m\u001b[0;34m.\u001b[0m\u001b[0mOpError\u001b[0m \u001b[0;32mas\u001b[0m \u001b[0me\u001b[0m\u001b[0;34m:\u001b[0m\u001b[0;34m\u001b[0m\u001b[0m\n\u001b[1;32m   1024\u001b[0m       \u001b[0mmessage\u001b[0m \u001b[0;34m=\u001b[0m \u001b[0mcompat\u001b[0m\u001b[0;34m.\u001b[0m\u001b[0mas_text\u001b[0m\u001b[0;34m(\u001b[0m\u001b[0me\u001b[0m\u001b[0;34m.\u001b[0m\u001b[0mmessage\u001b[0m\u001b[0;34m)\u001b[0m\u001b[0;34m\u001b[0m\u001b[0m\n",
      "\u001b[0;32m/usr/local/lib/python2.7/dist-packages/tensorflow/python/client/session.pyc\u001b[0m in \u001b[0;36m_run_fn\u001b[0;34m(session, feed_dict, fetch_list, target_list, options, run_metadata)\u001b[0m\n\u001b[1;32m   1002\u001b[0m         return tf_session.TF_Run(session, options,\n\u001b[1;32m   1003\u001b[0m                                  \u001b[0mfeed_dict\u001b[0m\u001b[0;34m,\u001b[0m \u001b[0mfetch_list\u001b[0m\u001b[0;34m,\u001b[0m \u001b[0mtarget_list\u001b[0m\u001b[0;34m,\u001b[0m\u001b[0;34m\u001b[0m\u001b[0m\n\u001b[0;32m-> 1004\u001b[0;31m                                  status, run_metadata)\n\u001b[0m\u001b[1;32m   1005\u001b[0m \u001b[0;34m\u001b[0m\u001b[0m\n\u001b[1;32m   1006\u001b[0m     \u001b[0;32mdef\u001b[0m \u001b[0m_prun_fn\u001b[0m\u001b[0;34m(\u001b[0m\u001b[0msession\u001b[0m\u001b[0;34m,\u001b[0m \u001b[0mhandle\u001b[0m\u001b[0;34m,\u001b[0m \u001b[0mfeed_dict\u001b[0m\u001b[0;34m,\u001b[0m \u001b[0mfetch_list\u001b[0m\u001b[0;34m)\u001b[0m\u001b[0;34m:\u001b[0m\u001b[0;34m\u001b[0m\u001b[0m\n",
      "\u001b[0;31mKeyboardInterrupt\u001b[0m: "
     ]
    }
   ],
   "source": [
    "nb_epochs = 1000\n",
    "batch_size = 128\n",
    "epsilon = .8\n",
    "gamma = .8\n",
    "K_frames = 4 #frames to skip each step\n",
    "\n",
    "model  = build_model(STATE_LENGTH = K_frames, FRAME_WIDTH = 84, FRAME_HEIGHT = 84,output_size=env.action_space.n)\n",
    "model.compile(RMSprop(), 'MSE')\n",
    "\n",
    "exp_replay = experience_replay(batch_size)\n",
    "exp_replay.next()  # Start experience-replay coroutine\n",
    "\n",
    "loss = 0\n",
    "rewards = 0\n",
    "q_values = 0\n",
    "\n",
    "for i in xrange(nb_epochs):\n",
    "    \n",
    "    \n",
    "    if(epsilon > 0.05):\n",
    "        epsilon = epsilon*0.95\n",
    "    \n",
    "    #ep = episode()\n",
    "    #S, won = ep.next()  # Start coroutine of single entire episode\n",
    "    action = np.random.randint(0, 6) #first action of epoch is random\n",
    "    S = env.reset()\n",
    "    #print S\n",
    "    \n",
    "    print 'Epoch ', i + 1, 'loss:', loss, \"Reward:\", rewards, \"Total Q:\", q_values, \"Epsilon\", epsilon     \n",
    "    rewards = 0\n",
    "    loss = 0.\n",
    "    q_values = 0\n",
    "    done = 0\n",
    "    \n",
    "    try:\n",
    "        while True:\n",
    "            \n",
    "            ls = list()\n",
    "            ls.append(S)\n",
    "            \n",
    "            action = np.random.randint(0, 6) \n",
    "            if np.random.random() < epsilon:\n",
    "                # Get the index of the maximum q-value of the model.\n",
    "                # Subtract one because actions are either -1, 0, or 1 #DONT DO THAT\n",
    "                \n",
    "                for i in range(K_frames-1):\n",
    "                    s, r, done, info = env.step(action)\n",
    "                    ls.append(s)\n",
    "                    rewards+=r\n",
    "\n",
    "                    if(done):\n",
    "                        done = True\n",
    "                        break\n",
    "                    #print s.shape\n",
    "                S = stackIt(ls)\n",
    "                action = np.argmax(model.predict(S))\n",
    "            else:\n",
    "                \n",
    "                for i in range(K_frames-1):\n",
    "                    s, r, done, info = env.step(action)\n",
    "                    ls.append(s)\n",
    "                    rewards+=r\n",
    "\n",
    "                    if(done):\n",
    "                        done = True\n",
    "                        break\n",
    "                    #print \"Tam of s when not epsilon: \", s.shape\n",
    "                S = stackIt(ls)\n",
    "                \n",
    "            if(done):\n",
    "                done = True\n",
    "                break\n",
    "            ## GETTING NEXT STATE ##\n",
    "            S_prime, r, done, info = env.step(action)\n",
    "            ls = list()\n",
    "            ls.append(S_prime)\n",
    "            \n",
    "            for i in range(K_frames-1):\n",
    "                s, r, done, info = env.step(action)\n",
    "                ls.append(s)\n",
    "                rewards+=r\n",
    "                if(done):\n",
    "                    done = True\n",
    "                    break\n",
    "                #print \"Tam of s when not epsilon: \", s.shape\n",
    "            if(done):\n",
    "                done = True\n",
    "                break\n",
    "            S_prime = stackIt(ls)\n",
    "            \n",
    "            experience = (S, action, r, S_prime)\n",
    "            \n",
    "            S_prime, r, done, info = env.step(action)\n",
    "            S = S_prime\n",
    "            \n",
    "            batch = exp_replay.send(experience)\n",
    "            \n",
    "            if batch:\n",
    "                inputs = []\n",
    "                targets = []\n",
    "                for s, a, r, s_prime in batch:\n",
    "                    # The targets of unchosen actions are the q-values of the model,\n",
    "                    # so that the corresponding errors are 0. The targets of chosen actions\n",
    "                    # are either the rewards, in case a terminal state has been reached, \n",
    "                    # or future discounted q-values, in case episodes are still running.\n",
    "                    rewards +=r\n",
    "                    t = model.predict(s)\n",
    "                    #print t, a, t.shape\n",
    "                    t[0][a] = r\n",
    "                    #print a\n",
    "                    if not r:\n",
    "                        t[0][a] = r + gamma * np.argmax(model.predict(s_prime))\n",
    "                    targets.append(t[0])\n",
    "                    inputs.append(s[0])\n",
    "                q_values += np.sum(targets)\n",
    "                loss += model.train_on_batch(np.array(inputs), np.array(targets))\n",
    "            #print loss\n",
    "    except StopIteration:\n",
    "        pass\n",
    "    if (i + 1) % 100 == 0:\n",
    "        print 'Epoch ', i + 1, 'loss:', loss\n"
   ]
  },
  {
   "cell_type": "code",
   "execution_count": 20,
   "metadata": {
    "collapsed": false,
    "deletable": true,
    "editable": true
   },
   "outputs": [
    {
     "name": "stdout",
     "output_type": "stream",
     "text": [
      "<keras.layers.convolutional.Conv2D object at 0x7f6b00756c50>\n"
     ]
    }
   ],
   "source": [
    "print model.layers[0]"
   ]
  },
  {
   "cell_type": "code",
   "execution_count": 21,
   "metadata": {
    "collapsed": true
   },
   "outputs": [],
   "source": [
    "model.save_weights('breakout.h5')"
   ]
  },
  {
   "cell_type": "code",
   "execution_count": null,
   "metadata": {
    "collapsed": false,
    "deletable": true,
    "editable": true
   },
   "outputs": [],
   "source": [
    "def save_img():\n",
    "    frame = 0\n",
    "    while True:\n",
    "        screen = (yield)\n",
    "        plt.imshow(screen[0], interpolation='none')\n",
    "        plt.savefig('images/%03i.png' % frame)\n",
    "        frame += 1\n",
    "    \n",
    "img_saver = save_img()\n",
    "img_saver.next()\n",
    "\n",
    "for _ in xrange(10):\n",
    "    g = episode()\n",
    "    S, _ = g.next()\n",
    "    img_saver.send(S)\n",
    "    try:\n",
    "        while True:\n",
    "            act = np.argmax(model.predict(S[np.newaxis]), axis=-1)[0] - 1\n",
    "            S, _ = g.send(act)\n",
    "            img_saver.send(S)\n",
    "\n",
    "    except StopIteration:\n",
    "        g.close()\n",
    "\n",
    "img_saver.close()\n"
   ]
  },
  {
   "cell_type": "code",
   "execution_count": null,
   "metadata": {
    "collapsed": true,
    "deletable": true,
    "editable": true
   },
   "outputs": [],
   "source": []
  },
  {
   "cell_type": "code",
   "execution_count": null,
   "metadata": {
    "collapsed": true,
    "deletable": true,
    "editable": true
   },
   "outputs": [],
   "source": []
  },
  {
   "cell_type": "code",
   "execution_count": null,
   "metadata": {
    "collapsed": true,
    "deletable": true,
    "editable": true
   },
   "outputs": [],
   "source": []
  }
 ],
 "metadata": {
  "kernelspec": {
   "display_name": "Python 2",
   "language": "python",
   "name": "python2"
  },
  "language_info": {
   "codemirror_mode": {
    "name": "ipython",
    "version": 2
   },
   "file_extension": ".py",
   "mimetype": "text/x-python",
   "name": "python",
   "nbconvert_exporter": "python",
   "pygments_lexer": "ipython2",
   "version": "2.7.12"
  }
 },
 "nbformat": 4,
 "nbformat_minor": 2
}
